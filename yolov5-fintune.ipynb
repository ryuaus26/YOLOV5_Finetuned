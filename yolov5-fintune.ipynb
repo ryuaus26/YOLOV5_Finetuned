{
 "cells": [
  {
   "cell_type": "code",
   "execution_count": 1,
   "id": "8b6f6b21",
   "metadata": {
    "_cell_guid": "d1968190-f801-4cb0-9d91-52eab90eeecc",
    "_uuid": "32961edc-c76e-4095-bf59-398006ea8288",
    "collapsed": false,
    "execution": {
     "iopub.execute_input": "2023-05-28T02:48:00.036411Z",
     "iopub.status.busy": "2023-05-28T02:48:00.035221Z",
     "iopub.status.idle": "2023-05-28T02:49:09.699285Z",
     "shell.execute_reply": "2023-05-28T02:49:09.698064Z"
    },
    "id": "Km4JXvRh26E7",
    "jupyter": {
     "outputs_hidden": false
    },
    "outputId": "0ef623c8-63b9-43bf-90d8-73b23bd7c5f9",
    "papermill": {
     "duration": 69.687203,
     "end_time": "2023-05-28T02:49:09.702080",
     "exception": false,
     "start_time": "2023-05-28T02:48:00.014877",
     "status": "completed"
    },
    "tags": []
   },
   "outputs": [
    {
     "name": "stdout",
     "output_type": "stream",
     "text": [
      "Cloning into 'yolov5'...\r\n",
      "remote: Enumerating objects: 15705, done.\u001b[K\r\n",
      "remote: Counting objects: 100% (33/33), done.\u001b[K\r\n",
      "remote: Compressing objects: 100% (30/30), done.\u001b[K\r\n",
      "remote: Total 15705 (delta 9), reused 15 (delta 3), pack-reused 15672\u001b[K\r\n",
      "Receiving objects: 100% (15705/15705), 14.51 MiB | 24.11 MiB/s, done.\r\n",
      "Resolving deltas: 100% (10754/10754), done.\r\n",
      "Collecting gitpython>=3.1.30\r\n",
      "  Downloading GitPython-3.1.31-py3-none-any.whl (184 kB)\r\n",
      "\u001b[2K     \u001b[90m━━━━━━━━━━━━━━━━━━━━━━━━━━━━━━━━━━━━━━━\u001b[0m \u001b[32m184.3/184.3 kB\u001b[0m \u001b[31m7.4 MB/s\u001b[0m eta \u001b[36m0:00:00\u001b[0m\r\n",
      "\u001b[?25hRequirement already satisfied: matplotlib>=3.3 in /opt/conda/lib/python3.7/site-packages (from -r yolov5/requirements.txt (line 6)) (3.5.3)\r\n",
      "Requirement already satisfied: numpy>=1.18.5 in /opt/conda/lib/python3.7/site-packages (from -r yolov5/requirements.txt (line 7)) (1.21.6)\r\n",
      "Requirement already satisfied: opencv-python>=4.1.1 in /opt/conda/lib/python3.7/site-packages (from -r yolov5/requirements.txt (line 8)) (4.5.4.60)\r\n",
      "Requirement already satisfied: Pillow>=7.1.2 in /opt/conda/lib/python3.7/site-packages (from -r yolov5/requirements.txt (line 9)) (9.1.1)\r\n",
      "Requirement already satisfied: psutil in /opt/conda/lib/python3.7/site-packages (from -r yolov5/requirements.txt (line 10)) (5.9.1)\r\n",
      "Requirement already satisfied: PyYAML>=5.3.1 in /opt/conda/lib/python3.7/site-packages (from -r yolov5/requirements.txt (line 11)) (6.0)\r\n",
      "Requirement already satisfied: requests>=2.23.0 in /opt/conda/lib/python3.7/site-packages (from -r yolov5/requirements.txt (line 12)) (2.28.1)\r\n",
      "Requirement already satisfied: scipy>=1.4.1 in /opt/conda/lib/python3.7/site-packages (from -r yolov5/requirements.txt (line 13)) (1.7.3)\r\n",
      "Collecting thop>=0.1.1\r\n",
      "  Downloading thop-0.1.1.post2209072238-py3-none-any.whl (15 kB)\r\n",
      "Requirement already satisfied: torch>=1.7.0 in /opt/conda/lib/python3.7/site-packages (from -r yolov5/requirements.txt (line 15)) (1.11.0)\r\n",
      "Requirement already satisfied: torchvision>=0.8.1 in /opt/conda/lib/python3.7/site-packages (from -r yolov5/requirements.txt (line 16)) (0.12.0)\r\n",
      "Requirement already satisfied: tqdm>=4.64.0 in /opt/conda/lib/python3.7/site-packages (from -r yolov5/requirements.txt (line 17)) (4.64.0)\r\n",
      "Collecting ultralytics>=8.0.100\r\n",
      "  Downloading ultralytics-8.0.109-py3-none-any.whl (591 kB)\r\n",
      "\u001b[2K     \u001b[90m━━━━━━━━━━━━━━━━━━━━━━━━━━━━━━━━━━━━━━\u001b[0m \u001b[32m591.4/591.4 kB\u001b[0m \u001b[31m28.8 MB/s\u001b[0m eta \u001b[36m0:00:00\u001b[0m\r\n",
      "\u001b[?25hRequirement already satisfied: pandas>=1.1.4 in /opt/conda/lib/python3.7/site-packages (from -r yolov5/requirements.txt (line 27)) (1.3.5)\r\n",
      "Requirement already satisfied: seaborn>=0.11.0 in /opt/conda/lib/python3.7/site-packages (from -r yolov5/requirements.txt (line 28)) (0.11.2)\r\n",
      "Collecting setuptools>=65.5.1\r\n",
      "  Downloading setuptools-67.8.0-py3-none-any.whl (1.1 MB)\r\n",
      "\u001b[2K     \u001b[90m━━━━━━━━━━━━━━━━━━━━━━━━━━━━━━━━━━━━━━━━\u001b[0m \u001b[32m1.1/1.1 MB\u001b[0m \u001b[31m58.8 MB/s\u001b[0m eta \u001b[36m0:00:00\u001b[0m\r\n",
      "\u001b[?25hRequirement already satisfied: typing-extensions>=3.7.4.3 in /opt/conda/lib/python3.7/site-packages (from gitpython>=3.1.30->-r yolov5/requirements.txt (line 5)) (4.3.0)\r\n",
      "Requirement already satisfied: gitdb<5,>=4.0.1 in /opt/conda/lib/python3.7/site-packages (from gitpython>=3.1.30->-r yolov5/requirements.txt (line 5)) (4.0.9)\r\n",
      "Requirement already satisfied: kiwisolver>=1.0.1 in /opt/conda/lib/python3.7/site-packages (from matplotlib>=3.3->-r yolov5/requirements.txt (line 6)) (1.4.3)\r\n",
      "Requirement already satisfied: cycler>=0.10 in /opt/conda/lib/python3.7/site-packages (from matplotlib>=3.3->-r yolov5/requirements.txt (line 6)) (0.11.0)\r\n",
      "Requirement already satisfied: packaging>=20.0 in /opt/conda/lib/python3.7/site-packages (from matplotlib>=3.3->-r yolov5/requirements.txt (line 6)) (21.3)\r\n",
      "Requirement already satisfied: fonttools>=4.22.0 in /opt/conda/lib/python3.7/site-packages (from matplotlib>=3.3->-r yolov5/requirements.txt (line 6)) (4.33.3)\r\n",
      "Requirement already satisfied: python-dateutil>=2.7 in /opt/conda/lib/python3.7/site-packages (from matplotlib>=3.3->-r yolov5/requirements.txt (line 6)) (2.8.2)\r\n",
      "Requirement already satisfied: pyparsing>=2.2.1 in /opt/conda/lib/python3.7/site-packages (from matplotlib>=3.3->-r yolov5/requirements.txt (line 6)) (3.0.9)\r\n",
      "Requirement already satisfied: charset-normalizer<3,>=2 in /opt/conda/lib/python3.7/site-packages (from requests>=2.23.0->-r yolov5/requirements.txt (line 12)) (2.1.0)\r\n",
      "Requirement already satisfied: urllib3<1.27,>=1.21.1 in /opt/conda/lib/python3.7/site-packages (from requests>=2.23.0->-r yolov5/requirements.txt (line 12)) (1.26.12)\r\n",
      "Requirement already satisfied: idna<4,>=2.5 in /opt/conda/lib/python3.7/site-packages (from requests>=2.23.0->-r yolov5/requirements.txt (line 12)) (3.3)\r\n",
      "Requirement already satisfied: certifi>=2017.4.17 in /opt/conda/lib/python3.7/site-packages (from requests>=2.23.0->-r yolov5/requirements.txt (line 12)) (2022.6.15)\r\n",
      "Collecting opencv-python>=4.1.1\r\n",
      "  Downloading opencv_python-4.7.0.72-cp37-abi3-manylinux_2_17_x86_64.manylinux2014_x86_64.whl (61.8 MB)\r\n",
      "\u001b[2K     \u001b[90m━━━━━━━━━━━━━━━━━━━━━━━━━━━━━━━━━━━━━━━━\u001b[0m \u001b[32m61.8/61.8 MB\u001b[0m \u001b[31m20.8 MB/s\u001b[0m eta \u001b[36m0:00:00\u001b[0m\r\n",
      "\u001b[?25hRequirement already satisfied: sentry-sdk in /opt/conda/lib/python3.7/site-packages (from ultralytics>=8.0.100->-r yolov5/requirements.txt (line 18)) (1.9.5)\r\n",
      "Requirement already satisfied: pytz>=2017.3 in /opt/conda/lib/python3.7/site-packages (from pandas>=1.1.4->-r yolov5/requirements.txt (line 27)) (2022.1)\r\n",
      "Requirement already satisfied: smmap<6,>=3.0.1 in /opt/conda/lib/python3.7/site-packages (from gitdb<5,>=4.0.1->gitpython>=3.1.30->-r yolov5/requirements.txt (line 5)) (3.0.5)\r\n",
      "Requirement already satisfied: six>=1.5 in /opt/conda/lib/python3.7/site-packages (from python-dateutil>=2.7->matplotlib>=3.3->-r yolov5/requirements.txt (line 6)) (1.15.0)\r\n",
      "Installing collected packages: setuptools, opencv-python, thop, gitpython, ultralytics\r\n",
      "  Attempting uninstall: setuptools\r\n",
      "    Found existing installation: setuptools 59.8.0\r\n",
      "    Uninstalling setuptools-59.8.0:\r\n",
      "      Successfully uninstalled setuptools-59.8.0\r\n",
      "  Attempting uninstall: opencv-python\r\n",
      "    Found existing installation: opencv-python 4.5.4.60\r\n",
      "    Uninstalling opencv-python-4.5.4.60:\r\n",
      "      Successfully uninstalled opencv-python-4.5.4.60\r\n",
      "  Attempting uninstall: gitpython\r\n",
      "    Found existing installation: GitPython 3.1.27\r\n",
      "    Uninstalling GitPython-3.1.27:\r\n",
      "      Successfully uninstalled GitPython-3.1.27\r\n",
      "\u001b[31mERROR: pip's dependency resolver does not currently take into account all the packages that are installed. This behaviour is the source of the following dependency conflicts.\r\n",
      "dask-cudf 21.10.1 requires cupy-cuda114, which is not installed.\r\n",
      "beatrix-jupyterlab 3.1.7 requires google-cloud-bigquery-storage, which is not installed.\r\n",
      "thinc 8.0.17 requires typing-extensions<4.2.0,>=3.7.4.1; python_version < \"3.8\", but you have typing-extensions 4.3.0 which is incompatible.\r\n",
      "spacy 3.3.1 requires typing-extensions<4.2.0,>=3.7.4; python_version < \"3.8\", but you have typing-extensions 4.3.0 which is incompatible.\r\n",
      "gcsfs 2022.5.0 requires fsspec==2022.5.0, but you have fsspec 2022.7.1 which is incompatible.\r\n",
      "dask-cudf 21.10.1 requires dask==2021.09.1, but you have dask 2022.2.0 which is incompatible.\r\n",
      "dask-cudf 21.10.1 requires distributed==2021.09.1, but you have distributed 2022.2.0 which is incompatible.\r\n",
      "allennlp 2.10.0 requires protobuf==3.20.0, but you have protobuf 3.19.4 which is incompatible.\u001b[0m\u001b[31m\r\n",
      "\u001b[0mSuccessfully installed gitpython-3.1.31 opencv-python-4.7.0.72 setuptools-67.8.0 thop-0.1.1.post2209072238 ultralytics-8.0.109\r\n",
      "\u001b[33mWARNING: Running pip as the 'root' user can result in broken permissions and conflicting behaviour with the system package manager. It is recommended to use a virtual environment instead: https://pip.pypa.io/warnings/venv\u001b[0m\u001b[33m\r\n",
      "\u001b[0mCollecting utils\r\n",
      "  Downloading utils-1.0.1-py2.py3-none-any.whl (21 kB)\r\n",
      "Installing collected packages: utils\r\n",
      "Successfully installed utils-1.0.1\r\n",
      "\u001b[33mWARNING: Running pip as the 'root' user can result in broken permissions and conflicting behaviour with the system package manager. It is recommended to use a virtual environment instead: https://pip.pypa.io/warnings/venv\u001b[0m\u001b[33m\r\n",
      "\u001b[0m\u001b[33mWARNING: Running pip as the 'root' user can result in broken permissions and conflicting behaviour with the system package manager. It is recommended to use a virtual environment instead: https://pip.pypa.io/warnings/venv\u001b[0m\u001b[33m\r\n",
      "\u001b[0mCollecting clearml\r\n",
      "  Downloading clearml-1.11.0-py2.py3-none-any.whl (1.1 MB)\r\n",
      "\u001b[2K     \u001b[90m━━━━━━━━━━━━━━━━━━━━━━━━━━━━━━━━━━━━━━━━\u001b[0m \u001b[32m1.1/1.1 MB\u001b[0m \u001b[31m21.0 MB/s\u001b[0m eta \u001b[36m0:00:00\u001b[0m\r\n",
      "\u001b[?25hCollecting pathlib2>=2.3.0\r\n",
      "  Downloading pathlib2-2.3.7.post1-py2.py3-none-any.whl (18 kB)\r\n",
      "Requirement already satisfied: six>=1.13.0 in /opt/conda/lib/python3.7/site-packages (from clearml) (1.15.0)\r\n",
      "Requirement already satisfied: Pillow>=4.1.1 in /opt/conda/lib/python3.7/site-packages (from clearml) (9.1.1)\r\n",
      "Requirement already satisfied: requests>=2.20.0 in /opt/conda/lib/python3.7/site-packages (from clearml) (2.28.1)\r\n",
      "Requirement already satisfied: attrs>=18.0 in /opt/conda/lib/python3.7/site-packages (from clearml) (21.4.0)\r\n",
      "Requirement already satisfied: psutil>=3.4.2 in /opt/conda/lib/python3.7/site-packages (from clearml) (5.9.1)\r\n",
      "Requirement already satisfied: pyjwt<2.5.0,>=2.4.0 in /opt/conda/lib/python3.7/site-packages (from clearml) (2.4.0)\r\n",
      "Requirement already satisfied: jsonschema>=2.6.0 in /opt/conda/lib/python3.7/site-packages (from clearml) (4.6.1)\r\n",
      "Collecting furl>=2.0.0\r\n",
      "  Downloading furl-2.1.3-py2.py3-none-any.whl (20 kB)\r\n",
      "Requirement already satisfied: pyparsing>=2.0.3 in /opt/conda/lib/python3.7/site-packages (from clearml) (3.0.9)\r\n",
      "Requirement already satisfied: numpy>=1.10 in /opt/conda/lib/python3.7/site-packages (from clearml) (1.21.6)\r\n",
      "Requirement already satisfied: urllib3>=1.21.1 in /opt/conda/lib/python3.7/site-packages (from clearml) (1.26.12)\r\n",
      "Requirement already satisfied: python-dateutil>=2.6.1 in /opt/conda/lib/python3.7/site-packages (from clearml) (2.8.2)\r\n",
      "Requirement already satisfied: PyYAML>=3.12 in /opt/conda/lib/python3.7/site-packages (from clearml) (6.0)\r\n",
      "Requirement already satisfied: orderedmultidict>=1.0.1 in /opt/conda/lib/python3.7/site-packages (from furl>=2.0.0->clearml) (1.0.1)\r\n",
      "Requirement already satisfied: typing-extensions in /opt/conda/lib/python3.7/site-packages (from jsonschema>=2.6.0->clearml) (4.3.0)\r\n",
      "Requirement already satisfied: importlib-resources>=1.4.0 in /opt/conda/lib/python3.7/site-packages (from jsonschema>=2.6.0->clearml) (5.8.0)\r\n",
      "Requirement already satisfied: pyrsistent!=0.17.0,!=0.17.1,!=0.17.2,>=0.14.0 in /opt/conda/lib/python3.7/site-packages (from jsonschema>=2.6.0->clearml) (0.18.1)\r\n",
      "Requirement already satisfied: importlib-metadata in /opt/conda/lib/python3.7/site-packages (from jsonschema>=2.6.0->clearml) (4.12.0)\r\n",
      "Requirement already satisfied: idna<4,>=2.5 in /opt/conda/lib/python3.7/site-packages (from requests>=2.20.0->clearml) (3.3)\r\n",
      "Requirement already satisfied: certifi>=2017.4.17 in /opt/conda/lib/python3.7/site-packages (from requests>=2.20.0->clearml) (2022.6.15)\r\n",
      "Requirement already satisfied: charset-normalizer<3,>=2 in /opt/conda/lib/python3.7/site-packages (from requests>=2.20.0->clearml) (2.1.0)\r\n",
      "Requirement already satisfied: zipp>=3.1.0 in /opt/conda/lib/python3.7/site-packages (from importlib-resources>=1.4.0->jsonschema>=2.6.0->clearml) (3.8.0)\r\n",
      "Installing collected packages: pathlib2, furl, clearml\r\n",
      "Successfully installed clearml-1.11.0 furl-2.1.3 pathlib2-2.3.7.post1\r\n",
      "\u001b[33mWARNING: Running pip as the 'root' user can result in broken permissions and conflicting behaviour with the system package manager. It is recommended to use a virtual environment instead: https://pip.pypa.io/warnings/venv\u001b[0m\u001b[33m\r\n",
      "\u001b[0m"
     ]
    }
   ],
   "source": [
    "# Cloning YOLO github\n",
    "!git clone https://github.com/ultralytics/yolov5\n",
    "!pip install -r yolov5/requirements.txt\n",
    "!pip install utils\n",
    "!pip install pylabel > /dev/null\n",
    "!pip install clearml\n"
   ]
  },
  {
   "cell_type": "markdown",
   "id": "f8edfa45",
   "metadata": {
    "_cell_guid": "004aa95f-461f-43aa-af56-c7571903e324",
    "_uuid": "83249285-7aa8-4e47-9ffc-abd75755ea75",
    "id": "BqdK0HXw4mMi",
    "papermill": {
     "duration": 0.011652,
     "end_time": "2023-05-28T02:49:09.726091",
     "exception": false,
     "start_time": "2023-05-28T02:49:09.714439",
     "status": "completed"
    },
    "tags": []
   },
   "source": [
    "# Importing the Necessary Libraries"
   ]
  },
  {
   "cell_type": "code",
   "execution_count": 2,
   "id": "03982b95",
   "metadata": {
    "_cell_guid": "e67bf6ee-6088-4dc8-88bb-e0865a7fcaad",
    "_uuid": "57a11918-8302-4717-b88f-bb34ec6cc37b",
    "collapsed": false,
    "execution": {
     "iopub.execute_input": "2023-05-28T02:49:09.752084Z",
     "iopub.status.busy": "2023-05-28T02:49:09.751049Z",
     "iopub.status.idle": "2023-05-28T02:49:12.431600Z",
     "shell.execute_reply": "2023-05-28T02:49:12.430569Z"
    },
    "id": "X-r1Mdy33EJv",
    "jupyter": {
     "outputs_hidden": false
    },
    "papermill": {
     "duration": 2.69657,
     "end_time": "2023-05-28T02:49:12.434399",
     "exception": false,
     "start_time": "2023-05-28T02:49:09.737829",
     "status": "completed"
    },
    "tags": []
   },
   "outputs": [],
   "source": [
    "import torch\n",
    "import os \n",
    "import random\n",
    "import shutil\n",
    "import xml.etree.ElementTree as ET\n",
    "import numpy as np\n",
    "import matplotlib.pyplot as plt\n",
    "import logging\n",
    "import os \n",
    "import zipfile\n",
    "import yaml\n",
    "import PIL\n",
    "\n",
    "from IPython.display import Image  # for displaying images\n",
    "from sklearn.model_selection import train_test_split\n",
    "from pylabel import importer\n",
    "from xml.dom import minidom\n",
    "from tqdm import tqdm\n",
    "from PIL import Image, ImageDraw\n",
    "import os\n",
    "import torch\n",
    "import torch.nn as nn\n",
    "import torch.optim as optim\n",
    "\n",
    "\n",
    "\n",
    "logging.getLogger().setLevel(logging.CRITICAL)\n",
    "random.seed(42)\n"
   ]
  },
  {
   "cell_type": "markdown",
   "id": "05a4cc05",
   "metadata": {
    "_cell_guid": "ed078ef2-7d3e-40a2-9224-71eec32602e5",
    "_uuid": "5540b536-c31e-4f3c-9ba2-ef681d1535d5",
    "id": "Cxi8K9mXwl5t",
    "papermill": {
     "duration": 0.011719,
     "end_time": "2023-05-28T02:49:12.458212",
     "exception": false,
     "start_time": "2023-05-28T02:49:12.446493",
     "status": "completed"
    },
    "tags": []
   },
   "source": [
    "# Convert COCO JSON Annotations to YOLO TXT Files"
   ]
  },
  {
   "cell_type": "markdown",
   "id": "b7cb848b",
   "metadata": {
    "_cell_guid": "c9db2a8c-64ae-4012-896a-049ebe36cf01",
    "_uuid": "350375ac-9790-4fee-a550-fb61e3104f77",
    "id": "P4ouZnVKEDmA",
    "papermill": {
     "duration": 0.011609,
     "end_time": "2023-05-28T02:49:12.481695",
     "exception": false,
     "start_time": "2023-05-28T02:49:12.470086",
     "status": "completed"
    },
    "tags": []
   },
   "source": [
    "## Import COCO Annotations"
   ]
  },
  {
   "cell_type": "code",
   "execution_count": 3,
   "id": "3e678de6",
   "metadata": {
    "_cell_guid": "e8452ecc-4632-4246-9e4d-702f8301db4c",
    "_uuid": "cc7208ec-c971-4184-a517-5704ae18b73e",
    "collapsed": false,
    "execution": {
     "iopub.execute_input": "2023-05-28T02:49:12.508378Z",
     "iopub.status.busy": "2023-05-28T02:49:12.507602Z",
     "iopub.status.idle": "2023-05-28T02:51:17.668685Z",
     "shell.execute_reply": "2023-05-28T02:51:17.667246Z"
    },
    "jupyter": {
     "outputs_hidden": false
    },
    "papermill": {
     "duration": 125.177092,
     "end_time": "2023-05-28T02:51:17.671594",
     "exception": false,
     "start_time": "2023-05-28T02:49:12.494502",
     "status": "completed"
    },
    "tags": []
   },
   "outputs": [],
   "source": [
    "# Copy images_raw to working directory\n",
    "# Note: This may take some time depending on the size of your images_raw folder\n",
    "!cp -r /kaggle/input/dataset-yolo ./\n"
   ]
  },
  {
   "cell_type": "code",
   "execution_count": null,
   "id": "269ba121",
   "metadata": {
    "execution": {
     "iopub.status.busy": "2023-05-28T00:04:10.895516Z",
     "iopub.status.idle": "2023-05-28T00:04:10.895833Z",
     "shell.execute_reply": "2023-05-28T00:04:10.895686Z",
     "shell.execute_reply.started": "2023-05-28T00:04:10.895671Z"
    },
    "papermill": {
     "duration": 0.011914,
     "end_time": "2023-05-28T02:51:17.695849",
     "exception": false,
     "start_time": "2023-05-28T02:51:17.683935",
     "status": "completed"
    },
    "tags": []
   },
   "outputs": [],
   "source": []
  },
  {
   "cell_type": "markdown",
   "id": "eb8b0b5d",
   "metadata": {
    "_cell_guid": "f5136219-0bcb-424e-b3dc-d73c3ca7bac2",
    "_uuid": "92b6d001-d340-4fb1-a183-820a33623ea6",
    "id": "fztwxt9K7teS",
    "papermill": {
     "duration": 0.011642,
     "end_time": "2023-05-28T02:51:17.719323",
     "exception": false,
     "start_time": "2023-05-28T02:51:17.707681",
     "status": "completed"
    },
    "tags": []
   },
   "source": [
    "Move labels folder inside the yolov5 directory"
   ]
  },
  {
   "cell_type": "markdown",
   "id": "a27566bb",
   "metadata": {
    "_cell_guid": "d344b6e9-be64-453f-b7d9-c3f0f24d45be",
    "_uuid": "bf0cadc8-170d-4384-999a-32caa21a27f3",
    "id": "zOe1f-vo8I7Z",
    "papermill": {
     "duration": 0.011652,
     "end_time": "2023-05-28T02:51:17.742924",
     "exception": false,
     "start_time": "2023-05-28T02:51:17.731272",
     "status": "completed"
    },
    "tags": []
   },
   "source": [
    "# Adjusting the dataset.yaml file\n",
    "\n",
    "* `path`: images\n",
    "* `train`: train\n",
    "* `val`: val\n",
    "* `test`: test"
   ]
  },
  {
   "cell_type": "code",
   "execution_count": 4,
   "id": "9c84dfa1",
   "metadata": {
    "_cell_guid": "565366a4-54f2-4e39-ae99-7bb1196b5b28",
    "_uuid": "b24b4a55-a36b-4bbd-8b5c-6329ef775b99",
    "collapsed": false,
    "execution": {
     "iopub.execute_input": "2023-05-28T02:51:17.768614Z",
     "iopub.status.busy": "2023-05-28T02:51:17.768216Z",
     "iopub.status.idle": "2023-05-28T02:51:17.777569Z",
     "shell.execute_reply": "2023-05-28T02:51:17.776531Z"
    },
    "id": "4xW0a3Bq9KFq",
    "jupyter": {
     "outputs_hidden": false
    },
    "outputId": "7f39a52c-b178-49a7-9121-10eff8d7e8ea",
    "papermill": {
     "duration": 0.025881,
     "end_time": "2023-05-28T02:51:17.780653",
     "exception": false,
     "start_time": "2023-05-28T02:51:17.754772",
     "status": "completed"
    },
    "tags": []
   },
   "outputs": [
    {
     "name": "stdout",
     "output_type": "stream",
     "text": [
      "{'train': 'Cigarrette_Butts/train/images', 'val': 'Cigarrette_Butts/val/images', 'test': 'Cigarrette_Butts/test/images', 'nc': 4, 'names': {0: 'CigaretteButt', 1: 'Garbage Bag', 2: 'Paper Bag', 3: 'Plastic Bag'}}\n"
     ]
    }
   ],
   "source": [
    "# Viewing the original unprocessed yaml file\n",
    "\n",
    "yaml_params = {}\n",
    "with open(r'/kaggle/working/dataset-yolo/Cigarrette_Butts/data.yaml') as file:\n",
    "    # The FullLoader parameter handles the conversion from YAML\n",
    "    # scalar values to Python the dictionary format\n",
    "    yaml_file_list = yaml.load(file, Loader=yaml.FullLoader)\n",
    "    yaml_params = yaml_file_list\n",
    "    print(yaml_file_list)"
   ]
  },
  {
   "cell_type": "code",
   "execution_count": 5,
   "id": "300b85ad",
   "metadata": {
    "_cell_guid": "8a6eea55-2996-436f-b22f-329daa5d90aa",
    "_uuid": "673e4e13-3fb7-4736-910f-2a89ebdfa9cc",
    "collapsed": false,
    "execution": {
     "iopub.execute_input": "2023-05-28T02:51:17.806056Z",
     "iopub.status.busy": "2023-05-28T02:51:17.805680Z",
     "iopub.status.idle": "2023-05-28T02:51:17.817439Z",
     "shell.execute_reply": "2023-05-28T02:51:17.816439Z"
    },
    "id": "R0IU2Owy-PkS",
    "jupyter": {
     "outputs_hidden": false
    },
    "outputId": "1a1f642b-a553-4aaf-890a-0c70dcde42ff",
    "papermill": {
     "duration": 0.027116,
     "end_time": "2023-05-28T02:51:17.819695",
     "exception": false,
     "start_time": "2023-05-28T02:51:17.792579",
     "status": "completed"
    },
    "tags": []
   },
   "outputs": [
    {
     "data": {
      "text/plain": [
       "{'train': '/kaggle/working/dataset-yolo/Cigarrette_Butts/train/images',\n",
       " 'val': '/kaggle/working/dataset-yolo/Cigarrette_Butts/val/images',\n",
       " 'test': '/kaggle/working/dataset-yolo/Cigarrette_Butts/test/images',\n",
       " 'nc': 4,\n",
       " 'names': {0: 'CigaretteButt',\n",
       "  1: 'Paper Bag',\n",
       "  2: 'Garbage Bag',\n",
       "  3: 'Plastic Bag'}}"
      ]
     },
     "execution_count": 5,
     "metadata": {},
     "output_type": "execute_result"
    }
   ],
   "source": [
    "# Adjusting the parameters of the yaml file\n",
    "yaml_params['train'] = '/kaggle/working/dataset-yolo/Cigarrette_Butts/train/images'\n",
    "yaml_params['val'] = '/kaggle/working/dataset-yolo/Cigarrette_Butts/val/images'\n",
    "yaml_params['test'] = '/kaggle/working/dataset-yolo/Cigarrette_Butts/test/images'\n",
    "yaml_params['names'][1] = 'Paper Bag'\n",
    "yaml_params['names'][2] = 'Garbage Bag'\n",
    "yaml_params['names'][3] = 'Plastic Bag'\n",
    "\n",
    "yaml_params"
   ]
  },
  {
   "cell_type": "code",
   "execution_count": 6,
   "id": "f2da4d12",
   "metadata": {
    "_cell_guid": "98960082-85c3-4cc5-a66a-c8a816231320",
    "_uuid": "f69b9956-197b-4bd8-b106-f1ea1a737915",
    "collapsed": false,
    "execution": {
     "iopub.execute_input": "2023-05-28T02:51:17.846435Z",
     "iopub.status.busy": "2023-05-28T02:51:17.845448Z",
     "iopub.status.idle": "2023-05-28T02:51:17.852678Z",
     "shell.execute_reply": "2023-05-28T02:51:17.851762Z"
    },
    "id": "_VMxc4QL-7UC",
    "jupyter": {
     "outputs_hidden": false
    },
    "papermill": {
     "duration": 0.022945,
     "end_time": "2023-05-28T02:51:17.854917",
     "exception": false,
     "start_time": "2023-05-28T02:51:17.831972",
     "status": "completed"
    },
    "tags": []
   },
   "outputs": [],
   "source": [
    "# Overwriting the new params from the previous ones.\n",
    "with open(r'dataset.yaml', 'w') as file:\n",
    "    documents = yaml.dump(yaml_params, file)"
   ]
  },
  {
   "cell_type": "markdown",
   "id": "8984d174",
   "metadata": {
    "_cell_guid": "e41b2467-a43f-402c-a064-1d7db1acb17d",
    "_uuid": "9c059861-1df1-48a3-9d80-da8219f73293",
    "id": "G6zy-Poe7mib",
    "papermill": {
     "duration": 0.011932,
     "end_time": "2023-05-28T02:51:17.879017",
     "exception": false,
     "start_time": "2023-05-28T02:51:17.867085",
     "status": "completed"
    },
    "tags": []
   },
   "source": [
    "# Training the Custom Dataset using YOLOv5\n",
    "\n",
    "Now, we train the network. We use various flags to set options regarding training."
   ]
  },
  {
   "cell_type": "code",
   "execution_count": null,
   "id": "78cdcfec",
   "metadata": {
    "_cell_guid": "b349bf58-b370-4b7b-968b-60f974ef3eaf",
    "_uuid": "ea662725-7f6e-45ef-b17b-a3cf37818917",
    "collapsed": false,
    "execution": {
     "iopub.execute_input": "2023-05-28T00:44:17.007998Z",
     "iopub.status.busy": "2023-05-28T00:44:17.007231Z"
    },
    "id": "Uc50xL8zBI_d",
    "jupyter": {
     "outputs_hidden": false
    },
    "outputId": "59f836e5-5223-4552-f6c7-aae6490c5ba3",
    "papermill": {
     "duration": 0.011826,
     "end_time": "2023-05-28T02:51:17.902910",
     "exception": false,
     "start_time": "2023-05-28T02:51:17.891084",
     "status": "completed"
    },
    "tags": []
   },
   "outputs": [],
   "source": []
  },
  {
   "cell_type": "markdown",
   "id": "5da1c5af",
   "metadata": {
    "_cell_guid": "5ab41bdd-6994-4c03-8ba5-7ed5a6959205",
    "_uuid": "8dc2c1b5-9e67-430f-91d2-95c708e58f2c",
    "execution": {
     "iopub.execute_input": "2022-08-23T08:07:26.595353Z",
     "iopub.status.busy": "2022-08-23T08:07:26.594698Z"
    },
    "id": "Auklt1b4BRVu",
    "outputId": "56af4a37-91ea-44cf-c372-87876d62afe5",
    "papermill": {
     "duration": 0.011767,
     "end_time": "2023-05-28T02:51:17.926712",
     "exception": false,
     "start_time": "2023-05-28T02:51:17.914945",
     "status": "completed"
    },
    "tags": []
   },
   "source": [
    "## Training using YOLOv5"
   ]
  },
  {
   "cell_type": "code",
   "execution_count": 7,
   "id": "f27392dd",
   "metadata": {
    "execution": {
     "iopub.execute_input": "2023-05-28T02:51:17.953564Z",
     "iopub.status.busy": "2023-05-28T02:51:17.952559Z",
     "iopub.status.idle": "2023-05-28T02:51:22.922065Z",
     "shell.execute_reply": "2023-05-28T02:51:22.920363Z"
    },
    "papermill": {
     "duration": 4.986858,
     "end_time": "2023-05-28T02:51:22.925988",
     "exception": false,
     "start_time": "2023-05-28T02:51:17.939130",
     "status": "completed"
    },
    "tags": []
   },
   "outputs": [
    {
     "name": "stdout",
     "output_type": "stream",
     "text": [
      "env: CLEARML_WEB_HOST=https://app.clear.ml\n",
      "env: CLEARML_API_HOST=https://api.clear.ml\n",
      "env: CLEARML_FILES_HOST=https://files.clear.ml\n",
      "env: CLEARML_API_ACCESS_KEY=5EEUPBPWIWBGVZDW265X\n",
      "env: CLEARML_API_SECRET_KEY=G27YQwb8xSAGMiiOFJLAmBszaUAs1Tte3Pq5ty9TTFl1YsWsaw\n",
      "ClearML Task: created new task id=033f045cf0f4481bbc35c2201389f947\n",
      "2023-05-28 02:51:21,001 - clearml.Repository Detection - WARNING - Failed accessing the jupyter server(s): []\n",
      "2023-05-28 02:51:21,028 - clearml.Task - INFO - No repository found, storing script code instead\n",
      "ClearML results page: https://app.clear.ml/projects/8425d1a9dc0f43a182e8175c34715835/experiments/033f045cf0f4481bbc35c2201389f947/output/log\n"
     ]
    }
   ],
   "source": [
    "%env CLEARML_WEB_HOST=https://app.clear.ml\n",
    "%env CLEARML_API_HOST=https://api.clear.ml\n",
    "%env CLEARML_FILES_HOST=https://files.clear.ml\n",
    "%env CLEARML_API_ACCESS_KEY=5EEUPBPWIWBGVZDW265X\n",
    "%env CLEARML_API_SECRET_KEY=G27YQwb8xSAGMiiOFJLAmBszaUAs1Tte3Pq5ty9TTFl1YsWsaw\n",
    "\n",
    "from clearml import Task\n",
    "task = Task.init(project_name=\"YoloFinetune\", task_name=\"Kaggle\")"
   ]
  },
  {
   "cell_type": "code",
   "execution_count": 8,
   "id": "1c716714",
   "metadata": {
    "execution": {
     "iopub.execute_input": "2023-05-28T02:51:22.958299Z",
     "iopub.status.busy": "2023-05-28T02:51:22.957016Z",
     "iopub.status.idle": "2023-05-28T02:51:22.963789Z",
     "shell.execute_reply": "2023-05-28T02:51:22.962764Z"
    },
    "papermill": {
     "duration": 0.023993,
     "end_time": "2023-05-28T02:51:22.966061",
     "exception": false,
     "start_time": "2023-05-28T02:51:22.942068",
     "status": "completed"
    },
    "tags": []
   },
   "outputs": [],
   "source": [
    "# with open(\"/kaggle/working/yolov5/runs/train/yolo_finetune2/weights/best.pt\", \"rb\") as source_file:\n",
    "#     weights = source_file.read()\n",
    "\n",
    "# with open(\"best.pt\", \"wb\") as destination_file:\n",
    "#     destination_file.write(weights)\n"
   ]
  },
  {
   "cell_type": "code",
   "execution_count": 9,
   "id": "556265a1",
   "metadata": {
    "_cell_guid": "cd3ae7a4-852c-46ef-a6f3-6c9e969000bc",
    "_uuid": "79c9aed1-ece4-4975-a47f-410459b05e34",
    "collapsed": false,
    "execution": {
     "iopub.execute_input": "2023-05-28T02:51:22.992662Z",
     "iopub.status.busy": "2023-05-28T02:51:22.992360Z",
     "iopub.status.idle": "2023-05-28T02:51:22.996970Z",
     "shell.execute_reply": "2023-05-28T02:51:22.995894Z"
    },
    "jupyter": {
     "outputs_hidden": false
    },
    "papermill": {
     "duration": 0.020298,
     "end_time": "2023-05-28T02:51:22.999143",
     "exception": false,
     "start_time": "2023-05-28T02:51:22.978845",
     "status": "completed"
    },
    "tags": []
   },
   "outputs": [],
   "source": [
    "# def fitness(x): \n",
    "#     # Model fitness as a weighted combination of metrics \n",
    "#     w = [0.0, 0.0, 0.1, 0.9]  # weights for [P, R, mAP@0.5, mAP@0.5:0.95] \n",
    "#     return (x[:, :4] * w).sum(1) \n",
    "# !python /kaggle/working/yolov5/train.py --img 640 --cfg /kaggle/working/yolov5/models/yolov5s.yaml --hyp /kaggle/working/yolov5/data/hyps/hyp.scratch-low.yaml --batch 64 --epochs 300 --data /kaggle/working/dataset.yaml --weights \"yolov5s.pt\" --workers 100 --name yolo_finetune"
   ]
  },
  {
   "cell_type": "markdown",
   "id": "a8f04300",
   "metadata": {
    "papermill": {
     "duration": 0.012035,
     "end_time": "2023-05-28T02:51:23.023496",
     "exception": false,
     "start_time": "2023-05-28T02:51:23.011461",
     "status": "completed"
    },
    "tags": []
   },
   "source": [
    "<a href=\"/kaggle/working/yolov5/runs/train/yolo_finetune2/weights/best.pt\">Download File</a>\n"
   ]
  },
  {
   "cell_type": "markdown",
   "id": "140e7fd3",
   "metadata": {
    "_cell_guid": "356506dd-e1ed-423b-ab5b-684fb32f304a",
    "_uuid": "f2c12e2a-913b-4fab-98d6-14d7f549f102",
    "papermill": {
     "duration": 0.012044,
     "end_time": "2023-05-28T02:51:23.047871",
     "exception": false,
     "start_time": "2023-05-28T02:51:23.035827",
     "status": "completed"
    },
    "tags": []
   },
   "source": [
    "# Predict on our own Test Image"
   ]
  }
 ],
 "metadata": {
  "kernelspec": {
   "display_name": "Python 3",
   "language": "python",
   "name": "python3"
  },
  "language_info": {
   "codemirror_mode": {
    "name": "ipython",
    "version": 3
   },
   "file_extension": ".py",
   "mimetype": "text/x-python",
   "name": "python",
   "nbconvert_exporter": "python",
   "pygments_lexer": "ipython3",
   "version": "3.7.12"
  },
  "papermill": {
   "default_parameters": {},
   "duration": 215.210469,
   "end_time": "2023-05-28T02:51:25.983182",
   "environment_variables": {},
   "exception": null,
   "input_path": "__notebook__.ipynb",
   "output_path": "__notebook__.ipynb",
   "parameters": {},
   "start_time": "2023-05-28T02:47:50.772713",
   "version": "2.3.4"
  }
 },
 "nbformat": 4,
 "nbformat_minor": 5
}
